{
 "cells": [
  {
   "cell_type": "code",
   "execution_count": 1,
   "metadata": {},
   "outputs": [],
   "source": [
    "##Import statement\n",
    "import pandas as pd\n",
    "import numpy as np\n",
    "import math\n",
    "import statistics\n",
    "import scipy.stats\n",
    "import seaborn as sns\n",
    "%matplotlib inline\n",
    "import matplotlib.pyplot as plt\n",
    "from sklearn.linear_model import LinearRegression\n",
    "import matplotlib as mpl\n",
    "pd.set_option('display.max.columns',None)"
   ]
  },
  {
   "cell_type": "code",
   "execution_count": 2,
   "metadata": {},
   "outputs": [
    {
     "name": "stdout",
     "output_type": "stream",
     "text": [
      "Data read into a pandas dataframe!\n"
     ]
    }
   ],
   "source": [
    "#load data set\n",
    "df = pd.read_csv('./dataset/climate_data.csv')\n",
    "print ('Data read into a pandas dataframe!')"
   ]
  },
  {
   "cell_type": "code",
   "execution_count": 3,
   "metadata": {},
   "outputs": [
    {
     "data": {
      "text/html": [
       "<div>\n",
       "<style scoped>\n",
       "    .dataframe tbody tr th:only-of-type {\n",
       "        vertical-align: middle;\n",
       "    }\n",
       "\n",
       "    .dataframe tbody tr th {\n",
       "        vertical-align: top;\n",
       "    }\n",
       "\n",
       "    .dataframe thead th {\n",
       "        text-align: right;\n",
       "    }\n",
       "</style>\n",
       "<table border=\"1\" class=\"dataframe\">\n",
       "  <thead>\n",
       "    <tr style=\"text-align: right;\">\n",
       "      <th></th>\n",
       "      <th>Date</th>\n",
       "      <th>Average temperature (°F)</th>\n",
       "      <th>Average humidity (%)</th>\n",
       "      <th>Average dewpoint (°F)</th>\n",
       "      <th>Average barometer (in)</th>\n",
       "      <th>Average windspeed (mph)</th>\n",
       "      <th>Average gustspeed (mph)</th>\n",
       "      <th>Average direction (°deg)</th>\n",
       "      <th>Rainfall for month (in)</th>\n",
       "      <th>Rainfall for year (in)</th>\n",
       "      <th>Maximum rain per minute</th>\n",
       "      <th>Maximum temperature (°F)</th>\n",
       "      <th>Minimum temperature (°F)</th>\n",
       "      <th>Maximum humidity (%)</th>\n",
       "      <th>Minimum humidity (%)</th>\n",
       "      <th>Maximum pressure</th>\n",
       "      <th>Minimum pressure</th>\n",
       "      <th>Maximum windspeed (mph)</th>\n",
       "      <th>Maximum gust speed (mph)</th>\n",
       "      <th>Maximum heat index (°F)</th>\n",
       "      <th>Date1</th>\n",
       "      <th>Month</th>\n",
       "      <th>diff_pressure</th>\n",
       "    </tr>\n",
       "  </thead>\n",
       "  <tbody>\n",
       "    <tr>\n",
       "      <th>0</th>\n",
       "      <td>2009-01-01</td>\n",
       "      <td>37.8</td>\n",
       "      <td>35.0</td>\n",
       "      <td>12.7</td>\n",
       "      <td>29.7</td>\n",
       "      <td>26.4</td>\n",
       "      <td>36.8</td>\n",
       "      <td>274.0</td>\n",
       "      <td>0.0</td>\n",
       "      <td>0.0</td>\n",
       "      <td>0.0</td>\n",
       "      <td>40.0</td>\n",
       "      <td>34.0</td>\n",
       "      <td>4.0</td>\n",
       "      <td>27.0</td>\n",
       "      <td>29.762</td>\n",
       "      <td>29.596</td>\n",
       "      <td>41.4</td>\n",
       "      <td>59.0</td>\n",
       "      <td>40.0</td>\n",
       "      <td>2009-01-01</td>\n",
       "      <td>1</td>\n",
       "      <td>0.166</td>\n",
       "    </tr>\n",
       "    <tr>\n",
       "      <th>1</th>\n",
       "      <td>2009-01-02</td>\n",
       "      <td>43.2</td>\n",
       "      <td>32.0</td>\n",
       "      <td>14.7</td>\n",
       "      <td>29.5</td>\n",
       "      <td>12.8</td>\n",
       "      <td>18.0</td>\n",
       "      <td>240.0</td>\n",
       "      <td>0.0</td>\n",
       "      <td>0.0</td>\n",
       "      <td>0.0</td>\n",
       "      <td>52.0</td>\n",
       "      <td>37.0</td>\n",
       "      <td>4.0</td>\n",
       "      <td>16.0</td>\n",
       "      <td>29.669</td>\n",
       "      <td>29.268</td>\n",
       "      <td>35.7</td>\n",
       "      <td>51.0</td>\n",
       "      <td>52.0</td>\n",
       "      <td>2009-01-02</td>\n",
       "      <td>1</td>\n",
       "      <td>0.401</td>\n",
       "    </tr>\n",
       "    <tr>\n",
       "      <th>2</th>\n",
       "      <td>2009-01-03</td>\n",
       "      <td>25.7</td>\n",
       "      <td>60.0</td>\n",
       "      <td>12.7</td>\n",
       "      <td>29.7</td>\n",
       "      <td>8.3</td>\n",
       "      <td>12.2</td>\n",
       "      <td>290.0</td>\n",
       "      <td>0.0</td>\n",
       "      <td>0.0</td>\n",
       "      <td>0.0</td>\n",
       "      <td>41.0</td>\n",
       "      <td>6.0</td>\n",
       "      <td>8.0</td>\n",
       "      <td>35.0</td>\n",
       "      <td>30.232</td>\n",
       "      <td>29.260</td>\n",
       "      <td>25.3</td>\n",
       "      <td>38.0</td>\n",
       "      <td>41.0</td>\n",
       "      <td>2009-01-03</td>\n",
       "      <td>1</td>\n",
       "      <td>0.972</td>\n",
       "    </tr>\n",
       "    <tr>\n",
       "      <th>3</th>\n",
       "      <td>2009-01-04</td>\n",
       "      <td>9.3</td>\n",
       "      <td>67.0</td>\n",
       "      <td>0.1</td>\n",
       "      <td>30.4</td>\n",
       "      <td>2.9</td>\n",
       "      <td>4.5</td>\n",
       "      <td>47.0</td>\n",
       "      <td>0.0</td>\n",
       "      <td>0.0</td>\n",
       "      <td>0.0</td>\n",
       "      <td>19.0</td>\n",
       "      <td>-0.0</td>\n",
       "      <td>7.0</td>\n",
       "      <td>35.0</td>\n",
       "      <td>30.566</td>\n",
       "      <td>30.227</td>\n",
       "      <td>12.7</td>\n",
       "      <td>20.0</td>\n",
       "      <td>32.0</td>\n",
       "      <td>2009-01-04</td>\n",
       "      <td>1</td>\n",
       "      <td>0.339</td>\n",
       "    </tr>\n",
       "    <tr>\n",
       "      <th>4</th>\n",
       "      <td>2009-01-05</td>\n",
       "      <td>23.5</td>\n",
       "      <td>30.0</td>\n",
       "      <td>-5.3</td>\n",
       "      <td>29.9</td>\n",
       "      <td>16.7</td>\n",
       "      <td>23.1</td>\n",
       "      <td>265.0</td>\n",
       "      <td>0.0</td>\n",
       "      <td>0.0</td>\n",
       "      <td>0.0</td>\n",
       "      <td>30.0</td>\n",
       "      <td>15.0</td>\n",
       "      <td>5.0</td>\n",
       "      <td>13.0</td>\n",
       "      <td>30.233</td>\n",
       "      <td>29.568</td>\n",
       "      <td>38.0</td>\n",
       "      <td>53.0</td>\n",
       "      <td>32.0</td>\n",
       "      <td>2009-01-05</td>\n",
       "      <td>1</td>\n",
       "      <td>0.665</td>\n",
       "    </tr>\n",
       "  </tbody>\n",
       "</table>\n",
       "</div>"
      ],
      "text/plain": [
       "         Date  Average temperature (°F)  Average humidity (%)  \\\n",
       "0  2009-01-01                      37.8                  35.0   \n",
       "1  2009-01-02                      43.2                  32.0   \n",
       "2  2009-01-03                      25.7                  60.0   \n",
       "3  2009-01-04                       9.3                  67.0   \n",
       "4  2009-01-05                      23.5                  30.0   \n",
       "\n",
       "   Average dewpoint (°F)  Average barometer (in)  Average windspeed (mph)  \\\n",
       "0                   12.7                    29.7                     26.4   \n",
       "1                   14.7                    29.5                     12.8   \n",
       "2                   12.7                    29.7                      8.3   \n",
       "3                    0.1                    30.4                      2.9   \n",
       "4                   -5.3                    29.9                     16.7   \n",
       "\n",
       "   Average gustspeed (mph)  Average direction (°deg)  Rainfall for month (in)  \\\n",
       "0                     36.8                     274.0                      0.0   \n",
       "1                     18.0                     240.0                      0.0   \n",
       "2                     12.2                     290.0                      0.0   \n",
       "3                      4.5                      47.0                      0.0   \n",
       "4                     23.1                     265.0                      0.0   \n",
       "\n",
       "   Rainfall for year (in)  Maximum rain per minute  Maximum temperature (°F)  \\\n",
       "0                     0.0                      0.0                      40.0   \n",
       "1                     0.0                      0.0                      52.0   \n",
       "2                     0.0                      0.0                      41.0   \n",
       "3                     0.0                      0.0                      19.0   \n",
       "4                     0.0                      0.0                      30.0   \n",
       "\n",
       "   Minimum temperature (°F)  Maximum humidity (%)  Minimum humidity (%)  \\\n",
       "0                      34.0                   4.0                  27.0   \n",
       "1                      37.0                   4.0                  16.0   \n",
       "2                       6.0                   8.0                  35.0   \n",
       "3                      -0.0                   7.0                  35.0   \n",
       "4                      15.0                   5.0                  13.0   \n",
       "\n",
       "   Maximum pressure  Minimum pressure  Maximum windspeed (mph)  \\\n",
       "0            29.762            29.596                     41.4   \n",
       "1            29.669            29.268                     35.7   \n",
       "2            30.232            29.260                     25.3   \n",
       "3            30.566            30.227                     12.7   \n",
       "4            30.233            29.568                     38.0   \n",
       "\n",
       "   Maximum gust speed (mph)  Maximum heat index (°F)       Date1  Month  \\\n",
       "0                      59.0                     40.0  2009-01-01      1   \n",
       "1                      51.0                     52.0  2009-01-02      1   \n",
       "2                      38.0                     41.0  2009-01-03      1   \n",
       "3                      20.0                     32.0  2009-01-04      1   \n",
       "4                      53.0                     32.0  2009-01-05      1   \n",
       "\n",
       "   diff_pressure  \n",
       "0          0.166  \n",
       "1          0.401  \n",
       "2          0.972  \n",
       "3          0.339  \n",
       "4          0.665  "
      ]
     },
     "execution_count": 3,
     "metadata": {},
     "output_type": "execute_result"
    }
   ],
   "source": [
    "#view the top 10 rows of the dataset\n",
    "df.head()"
   ]
  },
  {
   "cell_type": "code",
   "execution_count": 4,
   "metadata": {},
   "outputs": [
    {
     "data": {
      "text/plain": [
       "(3902, 23)"
      ]
     },
     "execution_count": 4,
     "metadata": {},
     "output_type": "execute_result"
    }
   ],
   "source": [
    "#view the dimensions of the dataframe\n",
    "df.shape"
   ]
  },
  {
   "cell_type": "code",
   "execution_count": 6,
   "metadata": {
    "scrolled": false
   },
   "outputs": [
    {
     "name": "stdout",
     "output_type": "stream",
     "text": [
      "<class 'pandas.core.frame.DataFrame'>\n",
      "RangeIndex: 3902 entries, 0 to 3901\n",
      "Data columns (total 23 columns):\n",
      " #   Column                    Non-Null Count  Dtype  \n",
      "---  ------                    --------------  -----  \n",
      " 0   Date                      3902 non-null   object \n",
      " 1   Average temperature (°F)  3902 non-null   float64\n",
      " 2   Average humidity (%)      3902 non-null   float64\n",
      " 3   Average dewpoint (°F)     3902 non-null   float64\n",
      " 4   Average barometer (in)    3902 non-null   float64\n",
      " 5   Average windspeed (mph)   3902 non-null   float64\n",
      " 6   Average gustspeed (mph)   3902 non-null   float64\n",
      " 7   Average direction (°deg)  3902 non-null   float64\n",
      " 8   Rainfall for month (in)   3902 non-null   float64\n",
      " 9   Rainfall for year (in)    3902 non-null   float64\n",
      " 10  Maximum rain per minute   3902 non-null   float64\n",
      " 11  Maximum temperature (°F)  3902 non-null   float64\n",
      " 12  Minimum temperature (°F)  3902 non-null   float64\n",
      " 13  Maximum humidity (%)      3902 non-null   float64\n",
      " 14  Minimum humidity (%)      3902 non-null   float64\n",
      " 15  Maximum pressure          3902 non-null   float64\n",
      " 16  Minimum pressure          3902 non-null   float64\n",
      " 17  Maximum windspeed (mph)   3902 non-null   float64\n",
      " 18  Maximum gust speed (mph)  3902 non-null   float64\n",
      " 19  Maximum heat index (°F)   3902 non-null   float64\n",
      " 20  Date1                     3902 non-null   object \n",
      " 21  Month                     3902 non-null   int64  \n",
      " 22  diff_pressure             3902 non-null   float64\n",
      "dtypes: float64(20), int64(1), object(2)\n",
      "memory usage: 701.3+ KB\n"
     ]
    }
   ],
   "source": [
    "#view Dtype of each features in dataframe\n",
    "df.info()"
   ]
  },
  {
   "cell_type": "code",
   "execution_count": 5,
   "metadata": {},
   "outputs": [
    {
     "data": {
      "text/plain": [
       "array(['Date', 'Average temperature (°F)', 'Average humidity (%)',\n",
       "       'Average dewpoint (°F)', 'Average barometer (in)',\n",
       "       'Average windspeed (mph)', 'Average gustspeed (mph)',\n",
       "       'Average direction (°deg)', 'Rainfall for month (in)',\n",
       "       'Rainfall for year (in)', 'Maximum rain per minute',\n",
       "       'Maximum temperature (°F)', 'Minimum temperature (°F)',\n",
       "       'Maximum humidity (%)', 'Minimum humidity (%)', 'Maximum pressure',\n",
       "       'Minimum pressure', 'Maximum windspeed (mph)',\n",
       "       'Maximum gust speed (mph)', 'Maximum heat index (°F)', 'Date1',\n",
       "       'Month', 'diff_pressure'], dtype=object)"
      ]
     },
     "execution_count": 5,
     "metadata": {},
     "output_type": "execute_result"
    }
   ],
   "source": [
    "df.columns.values"
   ]
  },
  {
   "cell_type": "code",
   "execution_count": 7,
   "metadata": {
    "scrolled": true
   },
   "outputs": [
    {
     "name": "stdout",
     "output_type": "stream",
     "text": [
      "Column name\n",
      "Date 3902\n",
      "Date1 3902\n"
     ]
    }
   ],
   "source": [
    "#check which columns should be categorical\n",
    "print('Column name')\n",
    "for col in df.columns:\n",
    "    if df[col].dtype=='object':\n",
    "        print(col, df[col].nunique())"
   ]
  },
  {
   "cell_type": "code",
   "execution_count": 8,
   "metadata": {
    "scrolled": true
   },
   "outputs": [
    {
     "name": "stdout",
     "output_type": "stream",
     "text": [
      "Date                        False\n",
      "Average temperature (°F)    False\n",
      "Average humidity (%)        False\n",
      "Average dewpoint (°F)       False\n",
      "Average barometer (in)      False\n",
      "Average windspeed (mph)     False\n",
      "Average gustspeed (mph)     False\n",
      "Average direction (°deg)    False\n",
      "Rainfall for month (in)     False\n",
      "Rainfall for year (in)      False\n",
      "Maximum rain per minute     False\n",
      "Maximum temperature (°F)    False\n",
      "Minimum temperature (°F)    False\n",
      "Maximum humidity (%)        False\n",
      "Minimum humidity (%)        False\n",
      "Maximum pressure            False\n",
      "Minimum pressure            False\n",
      "Maximum windspeed (mph)     False\n",
      "Maximum gust speed (mph)    False\n",
      "Maximum heat index (°F)     False\n",
      "Date1                       False\n",
      "Month                       False\n",
      "diff_pressure               False\n",
      "dtype: bool\n"
     ]
    }
   ],
   "source": [
    "print(df.isnull().any())"
   ]
  },
  {
   "cell_type": "code",
   "execution_count": 9,
   "metadata": {
    "scrolled": true
   },
   "outputs": [
    {
     "data": {
      "text/html": [
       "<div>\n",
       "<style scoped>\n",
       "    .dataframe tbody tr th:only-of-type {\n",
       "        vertical-align: middle;\n",
       "    }\n",
       "\n",
       "    .dataframe tbody tr th {\n",
       "        vertical-align: top;\n",
       "    }\n",
       "\n",
       "    .dataframe thead th {\n",
       "        text-align: right;\n",
       "    }\n",
       "</style>\n",
       "<table border=\"1\" class=\"dataframe\">\n",
       "  <thead>\n",
       "    <tr style=\"text-align: right;\">\n",
       "      <th></th>\n",
       "      <th>Average temperature (°F)</th>\n",
       "      <th>Average humidity (%)</th>\n",
       "      <th>Average dewpoint (°F)</th>\n",
       "      <th>Average barometer (in)</th>\n",
       "      <th>Average windspeed (mph)</th>\n",
       "      <th>Average gustspeed (mph)</th>\n",
       "      <th>Average direction (°deg)</th>\n",
       "      <th>Rainfall for month (in)</th>\n",
       "      <th>Rainfall for year (in)</th>\n",
       "      <th>Maximum rain per minute</th>\n",
       "      <th>Maximum temperature (°F)</th>\n",
       "      <th>Minimum temperature (°F)</th>\n",
       "      <th>Maximum humidity (%)</th>\n",
       "      <th>Minimum humidity (%)</th>\n",
       "      <th>Maximum pressure</th>\n",
       "      <th>Minimum pressure</th>\n",
       "      <th>Maximum windspeed (mph)</th>\n",
       "      <th>Maximum gust speed (mph)</th>\n",
       "      <th>Maximum heat index (°F)</th>\n",
       "      <th>Month</th>\n",
       "      <th>diff_pressure</th>\n",
       "    </tr>\n",
       "  </thead>\n",
       "  <tbody>\n",
       "    <tr>\n",
       "      <th>count</th>\n",
       "      <td>3902.000000</td>\n",
       "      <td>3902.000000</td>\n",
       "      <td>3902.000000</td>\n",
       "      <td>3902.000000</td>\n",
       "      <td>3902.000000</td>\n",
       "      <td>3902.000000</td>\n",
       "      <td>3902.000000</td>\n",
       "      <td>3902.000000</td>\n",
       "      <td>3902.000000</td>\n",
       "      <td>3902.0</td>\n",
       "      <td>3902.000000</td>\n",
       "      <td>3902.000000</td>\n",
       "      <td>3902.000000</td>\n",
       "      <td>3902.000000</td>\n",
       "      <td>3902.000000</td>\n",
       "      <td>3902.000000</td>\n",
       "      <td>3902.000000</td>\n",
       "      <td>3902.000000</td>\n",
       "      <td>3902.000000</td>\n",
       "      <td>3902.000000</td>\n",
       "      <td>3902.000000</td>\n",
       "    </tr>\n",
       "    <tr>\n",
       "      <th>mean</th>\n",
       "      <td>44.670733</td>\n",
       "      <td>48.878011</td>\n",
       "      <td>23.127037</td>\n",
       "      <td>29.881420</td>\n",
       "      <td>5.758893</td>\n",
       "      <td>10.011968</td>\n",
       "      <td>216.037417</td>\n",
       "      <td>0.451105</td>\n",
       "      <td>5.486171</td>\n",
       "      <td>0.0</td>\n",
       "      <td>57.561661</td>\n",
       "      <td>31.227524</td>\n",
       "      <td>73.673757</td>\n",
       "      <td>26.016914</td>\n",
       "      <td>30.045451</td>\n",
       "      <td>29.701622</td>\n",
       "      <td>19.840748</td>\n",
       "      <td>33.974910</td>\n",
       "      <td>58.086315</td>\n",
       "      <td>6.395695</td>\n",
       "      <td>0.343829</td>\n",
       "    </tr>\n",
       "    <tr>\n",
       "      <th>std</th>\n",
       "      <td>15.326793</td>\n",
       "      <td>17.438153</td>\n",
       "      <td>14.634088</td>\n",
       "      <td>0.250395</td>\n",
       "      <td>4.022485</td>\n",
       "      <td>14.117446</td>\n",
       "      <td>97.677761</td>\n",
       "      <td>0.603462</td>\n",
       "      <td>4.534444</td>\n",
       "      <td>0.0</td>\n",
       "      <td>17.755874</td>\n",
       "      <td>14.124424</td>\n",
       "      <td>20.380611</td>\n",
       "      <td>15.623870</td>\n",
       "      <td>0.258140</td>\n",
       "      <td>0.451691</td>\n",
       "      <td>12.235410</td>\n",
       "      <td>38.632424</td>\n",
       "      <td>17.953453</td>\n",
       "      <td>3.430231</td>\n",
       "      <td>0.407499</td>\n",
       "    </tr>\n",
       "    <tr>\n",
       "      <th>min</th>\n",
       "      <td>-12.100000</td>\n",
       "      <td>9.000000</td>\n",
       "      <td>-22.200000</td>\n",
       "      <td>28.200000</td>\n",
       "      <td>0.000000</td>\n",
       "      <td>0.000000</td>\n",
       "      <td>0.000000</td>\n",
       "      <td>0.000000</td>\n",
       "      <td>0.000000</td>\n",
       "      <td>0.0</td>\n",
       "      <td>-6.100000</td>\n",
       "      <td>-27.700000</td>\n",
       "      <td>1.000000</td>\n",
       "      <td>0.000000</td>\n",
       "      <td>29.338000</td>\n",
       "      <td>13.266000</td>\n",
       "      <td>0.000000</td>\n",
       "      <td>0.000000</td>\n",
       "      <td>-6.100000</td>\n",
       "      <td>1.000000</td>\n",
       "      <td>0.000000</td>\n",
       "    </tr>\n",
       "    <tr>\n",
       "      <th>25%</th>\n",
       "      <td>33.700000</td>\n",
       "      <td>36.000000</td>\n",
       "      <td>12.100000</td>\n",
       "      <td>29.700000</td>\n",
       "      <td>2.700000</td>\n",
       "      <td>4.500000</td>\n",
       "      <td>116.000000</td>\n",
       "      <td>0.050000</td>\n",
       "      <td>0.980000</td>\n",
       "      <td>0.0</td>\n",
       "      <td>43.900000</td>\n",
       "      <td>23.000000</td>\n",
       "      <td>63.000000</td>\n",
       "      <td>15.000000</td>\n",
       "      <td>29.866000</td>\n",
       "      <td>29.562000</td>\n",
       "      <td>13.800000</td>\n",
       "      <td>19.600000</td>\n",
       "      <td>43.900000</td>\n",
       "      <td>3.000000</td>\n",
       "      <td>0.220000</td>\n",
       "    </tr>\n",
       "    <tr>\n",
       "      <th>50%</th>\n",
       "      <td>45.100000</td>\n",
       "      <td>47.000000</td>\n",
       "      <td>22.500000</td>\n",
       "      <td>29.900000</td>\n",
       "      <td>4.600000</td>\n",
       "      <td>7.100000</td>\n",
       "      <td>253.000000</td>\n",
       "      <td>0.220000</td>\n",
       "      <td>5.080000</td>\n",
       "      <td>0.0</td>\n",
       "      <td>57.250000</td>\n",
       "      <td>32.800000</td>\n",
       "      <td>81.000000</td>\n",
       "      <td>22.000000</td>\n",
       "      <td>30.016000</td>\n",
       "      <td>29.711000</td>\n",
       "      <td>18.400000</td>\n",
       "      <td>27.600000</td>\n",
       "      <td>57.200000</td>\n",
       "      <td>6.000000</td>\n",
       "      <td>0.293000</td>\n",
       "    </tr>\n",
       "    <tr>\n",
       "      <th>75%</th>\n",
       "      <td>58.000000</td>\n",
       "      <td>61.000000</td>\n",
       "      <td>35.400000</td>\n",
       "      <td>30.000000</td>\n",
       "      <td>8.000000</td>\n",
       "      <td>12.100000</td>\n",
       "      <td>282.000000</td>\n",
       "      <td>0.670000</td>\n",
       "      <td>9.047500</td>\n",
       "      <td>0.0</td>\n",
       "      <td>73.200000</td>\n",
       "      <td>41.800000</td>\n",
       "      <td>89.000000</td>\n",
       "      <td>32.000000</td>\n",
       "      <td>30.203000</td>\n",
       "      <td>29.869000</td>\n",
       "      <td>24.200000</td>\n",
       "      <td>34.500000</td>\n",
       "      <td>77.300000</td>\n",
       "      <td>9.000000</td>\n",
       "      <td>0.395000</td>\n",
       "    </tr>\n",
       "    <tr>\n",
       "      <th>max</th>\n",
       "      <td>76.300000</td>\n",
       "      <td>94.000000</td>\n",
       "      <td>55.100000</td>\n",
       "      <td>31.000000</td>\n",
       "      <td>26.400000</td>\n",
       "      <td>240.400000</td>\n",
       "      <td>360.000000</td>\n",
       "      <td>4.480000</td>\n",
       "      <td>16.410000</td>\n",
       "      <td>0.0</td>\n",
       "      <td>92.700000</td>\n",
       "      <td>65.700000</td>\n",
       "      <td>100.000000</td>\n",
       "      <td>90.000000</td>\n",
       "      <td>31.204000</td>\n",
       "      <td>30.855000</td>\n",
       "      <td>181.700000</td>\n",
       "      <td>255.300000</td>\n",
       "      <td>88.400000</td>\n",
       "      <td>12.000000</td>\n",
       "      <td>16.602000</td>\n",
       "    </tr>\n",
       "  </tbody>\n",
       "</table>\n",
       "</div>"
      ],
      "text/plain": [
       "       Average temperature (°F)  Average humidity (%)  Average dewpoint (°F)  \\\n",
       "count               3902.000000           3902.000000            3902.000000   \n",
       "mean                  44.670733             48.878011              23.127037   \n",
       "std                   15.326793             17.438153              14.634088   \n",
       "min                  -12.100000              9.000000             -22.200000   \n",
       "25%                   33.700000             36.000000              12.100000   \n",
       "50%                   45.100000             47.000000              22.500000   \n",
       "75%                   58.000000             61.000000              35.400000   \n",
       "max                   76.300000             94.000000              55.100000   \n",
       "\n",
       "       Average barometer (in)  Average windspeed (mph)  \\\n",
       "count             3902.000000              3902.000000   \n",
       "mean                29.881420                 5.758893   \n",
       "std                  0.250395                 4.022485   \n",
       "min                 28.200000                 0.000000   \n",
       "25%                 29.700000                 2.700000   \n",
       "50%                 29.900000                 4.600000   \n",
       "75%                 30.000000                 8.000000   \n",
       "max                 31.000000                26.400000   \n",
       "\n",
       "       Average gustspeed (mph)  Average direction (°deg)  \\\n",
       "count              3902.000000               3902.000000   \n",
       "mean                 10.011968                216.037417   \n",
       "std                  14.117446                 97.677761   \n",
       "min                   0.000000                  0.000000   \n",
       "25%                   4.500000                116.000000   \n",
       "50%                   7.100000                253.000000   \n",
       "75%                  12.100000                282.000000   \n",
       "max                 240.400000                360.000000   \n",
       "\n",
       "       Rainfall for month (in)  Rainfall for year (in)  \\\n",
       "count              3902.000000             3902.000000   \n",
       "mean                  0.451105                5.486171   \n",
       "std                   0.603462                4.534444   \n",
       "min                   0.000000                0.000000   \n",
       "25%                   0.050000                0.980000   \n",
       "50%                   0.220000                5.080000   \n",
       "75%                   0.670000                9.047500   \n",
       "max                   4.480000               16.410000   \n",
       "\n",
       "       Maximum rain per minute  Maximum temperature (°F)  \\\n",
       "count                   3902.0               3902.000000   \n",
       "mean                       0.0                 57.561661   \n",
       "std                        0.0                 17.755874   \n",
       "min                        0.0                 -6.100000   \n",
       "25%                        0.0                 43.900000   \n",
       "50%                        0.0                 57.250000   \n",
       "75%                        0.0                 73.200000   \n",
       "max                        0.0                 92.700000   \n",
       "\n",
       "       Minimum temperature (°F)  Maximum humidity (%)  Minimum humidity (%)  \\\n",
       "count               3902.000000           3902.000000           3902.000000   \n",
       "mean                  31.227524             73.673757             26.016914   \n",
       "std                   14.124424             20.380611             15.623870   \n",
       "min                  -27.700000              1.000000              0.000000   \n",
       "25%                   23.000000             63.000000             15.000000   \n",
       "50%                   32.800000             81.000000             22.000000   \n",
       "75%                   41.800000             89.000000             32.000000   \n",
       "max                   65.700000            100.000000             90.000000   \n",
       "\n",
       "       Maximum pressure  Minimum pressure  Maximum windspeed (mph)  \\\n",
       "count       3902.000000       3902.000000              3902.000000   \n",
       "mean          30.045451         29.701622                19.840748   \n",
       "std            0.258140          0.451691                12.235410   \n",
       "min           29.338000         13.266000                 0.000000   \n",
       "25%           29.866000         29.562000                13.800000   \n",
       "50%           30.016000         29.711000                18.400000   \n",
       "75%           30.203000         29.869000                24.200000   \n",
       "max           31.204000         30.855000               181.700000   \n",
       "\n",
       "       Maximum gust speed (mph)  Maximum heat index (°F)        Month  \\\n",
       "count               3902.000000              3902.000000  3902.000000   \n",
       "mean                  33.974910                58.086315     6.395695   \n",
       "std                   38.632424                17.953453     3.430231   \n",
       "min                    0.000000                -6.100000     1.000000   \n",
       "25%                   19.600000                43.900000     3.000000   \n",
       "50%                   27.600000                57.200000     6.000000   \n",
       "75%                   34.500000                77.300000     9.000000   \n",
       "max                  255.300000                88.400000    12.000000   \n",
       "\n",
       "       diff_pressure  \n",
       "count    3902.000000  \n",
       "mean        0.343829  \n",
       "std         0.407499  \n",
       "min         0.000000  \n",
       "25%         0.220000  \n",
       "50%         0.293000  \n",
       "75%         0.395000  \n",
       "max        16.602000  "
      ]
     },
     "execution_count": 9,
     "metadata": {},
     "output_type": "execute_result"
    }
   ],
   "source": [
    "df.describe()"
   ]
  },
  {
   "cell_type": "markdown",
   "metadata": {},
   "source": [
    "from the data we can see that Maximum rain perminute values is zero, so i assume that it will not use."
   ]
  },
  {
   "cell_type": "code",
   "execution_count": 10,
   "metadata": {},
   "outputs": [
    {
     "name": "stdout",
     "output_type": "stream",
     "text": [
      "Empty DataFrame\n",
      "Columns: [Date, Average temperature (°F), Average humidity (%), Average dewpoint (°F), Average barometer (in), Average windspeed (mph), Average gustspeed (mph), Average direction (°deg), Rainfall for month (in), Rainfall for year (in), Maximum rain per minute, Maximum temperature (°F), Minimum temperature (°F), Maximum humidity (%), Minimum humidity (%), Maximum pressure, Minimum pressure, Maximum windspeed (mph), Maximum gust speed (mph), Maximum heat index (°F), Date1, Month, diff_pressure]\n",
      "Index: []\n"
     ]
    }
   ],
   "source": [
    "print(df.loc[df[\"Date\"] != df[\"Date1\"]])\n"
   ]
  },
  {
   "cell_type": "markdown",
   "metadata": {},
   "source": [
    "Date and Date1 parameters same. i will drop Date1 with other parameters that i think will not used."
   ]
  },
  {
   "cell_type": "code",
   "execution_count": 11,
   "metadata": {},
   "outputs": [
    {
     "data": {
      "text/html": [
       "<div>\n",
       "<style scoped>\n",
       "    .dataframe tbody tr th:only-of-type {\n",
       "        vertical-align: middle;\n",
       "    }\n",
       "\n",
       "    .dataframe tbody tr th {\n",
       "        vertical-align: top;\n",
       "    }\n",
       "\n",
       "    .dataframe thead th {\n",
       "        text-align: right;\n",
       "    }\n",
       "</style>\n",
       "<table border=\"1\" class=\"dataframe\">\n",
       "  <thead>\n",
       "    <tr style=\"text-align: right;\">\n",
       "      <th></th>\n",
       "      <th>Date</th>\n",
       "      <th>Average temperature (°F)</th>\n",
       "      <th>Average humidity (%)</th>\n",
       "      <th>Average dewpoint (°F)</th>\n",
       "      <th>Average barometer (in)</th>\n",
       "      <th>Average windspeed (mph)</th>\n",
       "      <th>Rainfall for month (in)</th>\n",
       "    </tr>\n",
       "  </thead>\n",
       "  <tbody>\n",
       "    <tr>\n",
       "      <th>0</th>\n",
       "      <td>2009-01-01</td>\n",
       "      <td>37.8</td>\n",
       "      <td>35.0</td>\n",
       "      <td>12.7</td>\n",
       "      <td>29.7</td>\n",
       "      <td>26.4</td>\n",
       "      <td>0.0</td>\n",
       "    </tr>\n",
       "    <tr>\n",
       "      <th>1</th>\n",
       "      <td>2009-01-02</td>\n",
       "      <td>43.2</td>\n",
       "      <td>32.0</td>\n",
       "      <td>14.7</td>\n",
       "      <td>29.5</td>\n",
       "      <td>12.8</td>\n",
       "      <td>0.0</td>\n",
       "    </tr>\n",
       "    <tr>\n",
       "      <th>2</th>\n",
       "      <td>2009-01-03</td>\n",
       "      <td>25.7</td>\n",
       "      <td>60.0</td>\n",
       "      <td>12.7</td>\n",
       "      <td>29.7</td>\n",
       "      <td>8.3</td>\n",
       "      <td>0.0</td>\n",
       "    </tr>\n",
       "    <tr>\n",
       "      <th>3</th>\n",
       "      <td>2009-01-04</td>\n",
       "      <td>9.3</td>\n",
       "      <td>67.0</td>\n",
       "      <td>0.1</td>\n",
       "      <td>30.4</td>\n",
       "      <td>2.9</td>\n",
       "      <td>0.0</td>\n",
       "    </tr>\n",
       "    <tr>\n",
       "      <th>4</th>\n",
       "      <td>2009-01-05</td>\n",
       "      <td>23.5</td>\n",
       "      <td>30.0</td>\n",
       "      <td>-5.3</td>\n",
       "      <td>29.9</td>\n",
       "      <td>16.7</td>\n",
       "      <td>0.0</td>\n",
       "    </tr>\n",
       "  </tbody>\n",
       "</table>\n",
       "</div>"
      ],
      "text/plain": [
       "         Date  Average temperature (°F)  Average humidity (%)  \\\n",
       "0  2009-01-01                      37.8                  35.0   \n",
       "1  2009-01-02                      43.2                  32.0   \n",
       "2  2009-01-03                      25.7                  60.0   \n",
       "3  2009-01-04                       9.3                  67.0   \n",
       "4  2009-01-05                      23.5                  30.0   \n",
       "\n",
       "   Average dewpoint (°F)  Average barometer (in)  Average windspeed (mph)  \\\n",
       "0                   12.7                    29.7                     26.4   \n",
       "1                   14.7                    29.5                     12.8   \n",
       "2                   12.7                    29.7                      8.3   \n",
       "3                    0.1                    30.4                      2.9   \n",
       "4                   -5.3                    29.9                     16.7   \n",
       "\n",
       "   Rainfall for month (in)  \n",
       "0                      0.0  \n",
       "1                      0.0  \n",
       "2                      0.0  \n",
       "3                      0.0  \n",
       "4                      0.0  "
      ]
     },
     "execution_count": 11,
     "metadata": {},
     "output_type": "execute_result"
    }
   ],
   "source": [
    "##droping the columns\n",
    "cuaca = df.drop([\"Average gustspeed (mph)\", \"Average direction (°deg)\", \"Rainfall for year (in)\", \"Maximum pressure\", \"Maximum rain per minute\", \"Maximum temperature (°F)\", \"Minimum temperature (°F)\", \"Maximum humidity (%)\", \"Minimum humidity (%)\", \"Maximum pressure\", \"Minimum pressure\", \"Maximum windspeed (mph)\", \"Maximum gust speed (mph)\", \"Maximum heat index (°F)\", \"Date1\", \"Month\", \"diff_pressure\"], axis = 1)\n",
    "cuaca.head()"
   ]
  },
  {
   "cell_type": "code",
   "execution_count": 12,
   "metadata": {
    "scrolled": true
   },
   "outputs": [
    {
     "name": "stdout",
     "output_type": "stream",
     "text": [
      "<class 'pandas.core.frame.DataFrame'>\n",
      "RangeIndex: 3902 entries, 0 to 3901\n",
      "Data columns (total 7 columns):\n",
      " #   Column                    Non-Null Count  Dtype  \n",
      "---  ------                    --------------  -----  \n",
      " 0   Date                      3902 non-null   object \n",
      " 1   Average temperature (°F)  3902 non-null   float64\n",
      " 2   Average humidity (%)      3902 non-null   float64\n",
      " 3   Average dewpoint (°F)     3902 non-null   float64\n",
      " 4   Average barometer (in)    3902 non-null   float64\n",
      " 5   Average windspeed (mph)   3902 non-null   float64\n",
      " 6   Rainfall for month (in)   3902 non-null   float64\n",
      "dtypes: float64(6), object(1)\n",
      "memory usage: 213.5+ KB\n"
     ]
    }
   ],
   "source": [
    "cuaca.info()"
   ]
  },
  {
   "cell_type": "code",
   "execution_count": 13,
   "metadata": {},
   "outputs": [
    {
     "data": {
      "text/plain": [
       "(3902, 7)"
      ]
     },
     "execution_count": 13,
     "metadata": {},
     "output_type": "execute_result"
    }
   ],
   "source": [
    "cuaca.shape"
   ]
  },
  {
   "cell_type": "markdown",
   "metadata": {},
   "source": [
    "data frame shape change from (3902,23) become (3902,7)"
   ]
  },
  {
   "cell_type": "code",
   "execution_count": 14,
   "metadata": {},
   "outputs": [
    {
     "name": "stdout",
     "output_type": "stream",
     "text": [
      "Column name\n",
      "Date 3902\n"
     ]
    }
   ],
   "source": [
    "print('Column name')\n",
    "for col in cuaca.columns:\n",
    "    if cuaca[col].dtype=='object':\n",
    "        print(col, cuaca[col].nunique())"
   ]
  },
  {
   "cell_type": "code",
   "execution_count": 15,
   "metadata": {},
   "outputs": [
    {
     "data": {
      "text/html": [
       "<div>\n",
       "<style scoped>\n",
       "    .dataframe tbody tr th:only-of-type {\n",
       "        vertical-align: middle;\n",
       "    }\n",
       "\n",
       "    .dataframe tbody tr th {\n",
       "        vertical-align: top;\n",
       "    }\n",
       "\n",
       "    .dataframe thead th {\n",
       "        text-align: right;\n",
       "    }\n",
       "</style>\n",
       "<table border=\"1\" class=\"dataframe\">\n",
       "  <thead>\n",
       "    <tr style=\"text-align: right;\">\n",
       "      <th></th>\n",
       "      <th>Date</th>\n",
       "      <th>Temperature</th>\n",
       "      <th>Humidity</th>\n",
       "      <th>Dewpoint</th>\n",
       "      <th>Pressure</th>\n",
       "      <th>Windspeed</th>\n",
       "      <th>Rainfall</th>\n",
       "    </tr>\n",
       "  </thead>\n",
       "  <tbody>\n",
       "    <tr>\n",
       "      <th>0</th>\n",
       "      <td>2009-01-01</td>\n",
       "      <td>37.8</td>\n",
       "      <td>35.0</td>\n",
       "      <td>12.7</td>\n",
       "      <td>29.7</td>\n",
       "      <td>26.4</td>\n",
       "      <td>0.0</td>\n",
       "    </tr>\n",
       "    <tr>\n",
       "      <th>1</th>\n",
       "      <td>2009-01-02</td>\n",
       "      <td>43.2</td>\n",
       "      <td>32.0</td>\n",
       "      <td>14.7</td>\n",
       "      <td>29.5</td>\n",
       "      <td>12.8</td>\n",
       "      <td>0.0</td>\n",
       "    </tr>\n",
       "    <tr>\n",
       "      <th>2</th>\n",
       "      <td>2009-01-03</td>\n",
       "      <td>25.7</td>\n",
       "      <td>60.0</td>\n",
       "      <td>12.7</td>\n",
       "      <td>29.7</td>\n",
       "      <td>8.3</td>\n",
       "      <td>0.0</td>\n",
       "    </tr>\n",
       "    <tr>\n",
       "      <th>3</th>\n",
       "      <td>2009-01-04</td>\n",
       "      <td>9.3</td>\n",
       "      <td>67.0</td>\n",
       "      <td>0.1</td>\n",
       "      <td>30.4</td>\n",
       "      <td>2.9</td>\n",
       "      <td>0.0</td>\n",
       "    </tr>\n",
       "    <tr>\n",
       "      <th>4</th>\n",
       "      <td>2009-01-05</td>\n",
       "      <td>23.5</td>\n",
       "      <td>30.0</td>\n",
       "      <td>-5.3</td>\n",
       "      <td>29.9</td>\n",
       "      <td>16.7</td>\n",
       "      <td>0.0</td>\n",
       "    </tr>\n",
       "  </tbody>\n",
       "</table>\n",
       "</div>"
      ],
      "text/plain": [
       "         Date  Temperature  Humidity  Dewpoint  Pressure  Windspeed  Rainfall\n",
       "0  2009-01-01         37.8      35.0      12.7      29.7       26.4       0.0\n",
       "1  2009-01-02         43.2      32.0      14.7      29.5       12.8       0.0\n",
       "2  2009-01-03         25.7      60.0      12.7      29.7        8.3       0.0\n",
       "3  2009-01-04          9.3      67.0       0.1      30.4        2.9       0.0\n",
       "4  2009-01-05         23.5      30.0      -5.3      29.9       16.7       0.0"
      ]
     },
     "execution_count": 15,
     "metadata": {},
     "output_type": "execute_result"
    }
   ],
   "source": [
    "currentLabels = list(cuaca.columns)\n",
    "\n",
    "##change coloumn names \n",
    "newLabels = [\"Temperature\", \"Humidity\", \"Dewpoint\", \"Pressure\", \"Windspeed\", \"Rainfall\"]\n",
    "numLabels = len(newLabels)\n",
    "\n",
    "##loop to change the column names\n",
    "for i in range(0,numLabels):\n",
    "    cuaca = cuaca.rename(columns = {currentLabels[i + 1] : newLabels[i]})\n",
    "    \n",
    "cuaca.head()"
   ]
  },
  {
   "cell_type": "code",
   "execution_count": 16,
   "metadata": {
    "scrolled": false
   },
   "outputs": [
    {
     "data": {
      "text/html": [
       "<div>\n",
       "<style scoped>\n",
       "    .dataframe tbody tr th:only-of-type {\n",
       "        vertical-align: middle;\n",
       "    }\n",
       "\n",
       "    .dataframe tbody tr th {\n",
       "        vertical-align: top;\n",
       "    }\n",
       "\n",
       "    .dataframe thead th {\n",
       "        text-align: right;\n",
       "    }\n",
       "</style>\n",
       "<table border=\"1\" class=\"dataframe\">\n",
       "  <thead>\n",
       "    <tr style=\"text-align: right;\">\n",
       "      <th></th>\n",
       "      <th>Temperature</th>\n",
       "      <th>Humidity</th>\n",
       "      <th>Dewpoint</th>\n",
       "      <th>Pressure</th>\n",
       "      <th>Windspeed</th>\n",
       "      <th>Rainfall</th>\n",
       "    </tr>\n",
       "  </thead>\n",
       "  <tbody>\n",
       "    <tr>\n",
       "      <th>count</th>\n",
       "      <td>3902.000000</td>\n",
       "      <td>3902.000000</td>\n",
       "      <td>3902.000000</td>\n",
       "      <td>3902.000000</td>\n",
       "      <td>3902.000000</td>\n",
       "      <td>3902.000000</td>\n",
       "    </tr>\n",
       "    <tr>\n",
       "      <th>mean</th>\n",
       "      <td>44.670733</td>\n",
       "      <td>48.878011</td>\n",
       "      <td>23.127037</td>\n",
       "      <td>29.881420</td>\n",
       "      <td>5.758893</td>\n",
       "      <td>0.451105</td>\n",
       "    </tr>\n",
       "    <tr>\n",
       "      <th>std</th>\n",
       "      <td>15.326793</td>\n",
       "      <td>17.438153</td>\n",
       "      <td>14.634088</td>\n",
       "      <td>0.250395</td>\n",
       "      <td>4.022485</td>\n",
       "      <td>0.603462</td>\n",
       "    </tr>\n",
       "    <tr>\n",
       "      <th>min</th>\n",
       "      <td>-12.100000</td>\n",
       "      <td>9.000000</td>\n",
       "      <td>-22.200000</td>\n",
       "      <td>28.200000</td>\n",
       "      <td>0.000000</td>\n",
       "      <td>0.000000</td>\n",
       "    </tr>\n",
       "    <tr>\n",
       "      <th>25%</th>\n",
       "      <td>33.700000</td>\n",
       "      <td>36.000000</td>\n",
       "      <td>12.100000</td>\n",
       "      <td>29.700000</td>\n",
       "      <td>2.700000</td>\n",
       "      <td>0.050000</td>\n",
       "    </tr>\n",
       "    <tr>\n",
       "      <th>50%</th>\n",
       "      <td>45.100000</td>\n",
       "      <td>47.000000</td>\n",
       "      <td>22.500000</td>\n",
       "      <td>29.900000</td>\n",
       "      <td>4.600000</td>\n",
       "      <td>0.220000</td>\n",
       "    </tr>\n",
       "    <tr>\n",
       "      <th>75%</th>\n",
       "      <td>58.000000</td>\n",
       "      <td>61.000000</td>\n",
       "      <td>35.400000</td>\n",
       "      <td>30.000000</td>\n",
       "      <td>8.000000</td>\n",
       "      <td>0.670000</td>\n",
       "    </tr>\n",
       "    <tr>\n",
       "      <th>max</th>\n",
       "      <td>76.300000</td>\n",
       "      <td>94.000000</td>\n",
       "      <td>55.100000</td>\n",
       "      <td>31.000000</td>\n",
       "      <td>26.400000</td>\n",
       "      <td>4.480000</td>\n",
       "    </tr>\n",
       "  </tbody>\n",
       "</table>\n",
       "</div>"
      ],
      "text/plain": [
       "       Temperature     Humidity     Dewpoint     Pressure    Windspeed  \\\n",
       "count  3902.000000  3902.000000  3902.000000  3902.000000  3902.000000   \n",
       "mean     44.670733    48.878011    23.127037    29.881420     5.758893   \n",
       "std      15.326793    17.438153    14.634088     0.250395     4.022485   \n",
       "min     -12.100000     9.000000   -22.200000    28.200000     0.000000   \n",
       "25%      33.700000    36.000000    12.100000    29.700000     2.700000   \n",
       "50%      45.100000    47.000000    22.500000    29.900000     4.600000   \n",
       "75%      58.000000    61.000000    35.400000    30.000000     8.000000   \n",
       "max      76.300000    94.000000    55.100000    31.000000    26.400000   \n",
       "\n",
       "          Rainfall  \n",
       "count  3902.000000  \n",
       "mean      0.451105  \n",
       "std       0.603462  \n",
       "min       0.000000  \n",
       "25%       0.050000  \n",
       "50%       0.220000  \n",
       "75%       0.670000  \n",
       "max       4.480000  "
      ]
     },
     "execution_count": 16,
     "metadata": {},
     "output_type": "execute_result"
    }
   ],
   "source": [
    "cuaca.describe()"
   ]
  },
  {
   "cell_type": "code",
   "execution_count": 17,
   "metadata": {},
   "outputs": [
    {
     "data": {
      "text/plain": [
       "0.00    549\n",
       "0.05    116\n",
       "0.02    114\n",
       "0.04     97\n",
       "0.20     95\n",
       "       ... \n",
       "3.71      1\n",
       "1.24      1\n",
       "2.12      1\n",
       "1.20      1\n",
       "1.67      1\n",
       "Name: Rainfall, Length: 234, dtype: int64"
      ]
     },
     "execution_count": 17,
     "metadata": {},
     "output_type": "execute_result"
    }
   ],
   "source": [
    "cuaca[\"Rainfall\"].value_counts()"
   ]
  },
  {
   "cell_type": "code",
   "execution_count": 18,
   "metadata": {},
   "outputs": [
    {
     "ename": "IndentationError",
     "evalue": "unexpected indent (<ipython-input-18-63e261eceac6>, line 3)",
     "output_type": "error",
     "traceback": [
      "\u001b[1;36m  File \u001b[1;32m\"<ipython-input-18-63e261eceac6>\"\u001b[1;36m, line \u001b[1;32m3\u001b[0m\n\u001b[1;33m    cuaca[col] = pd.to_numeric(cuaca[col], errors='coerce')\u001b[0m\n\u001b[1;37m    ^\u001b[0m\n\u001b[1;31mIndentationError\u001b[0m\u001b[1;31m:\u001b[0m unexpected indent\n"
     ]
    }
   ],
   "source": [
    "#numer = ['Temperature','Humidity', 'Dewpoint', 'Pressure', 'Windspeed']\n",
    "#for col in numer: # coerce for missing values\n",
    "    cuaca[col] = pd.to_numeric(cuaca[col], errors='coerce')\n",
    "\n",
    "#categ = ['Rainfall']\n",
    "#for col in categ:\n",
    "    cuaca[col] = cuaca[col].astype('category')\n",
    "\n",
    "#cuaca['Date'] = pd.to_datetime(cuaca['Date'], errors='coerce')\n",
    "\n",
    "#cuaca.head()"
   ]
  },
  {
   "cell_type": "code",
   "execution_count": 19,
   "metadata": {},
   "outputs": [
    {
     "ename": "NameError",
     "evalue": "name 'categ' is not defined",
     "output_type": "error",
     "traceback": [
      "\u001b[1;31m---------------------------------------------------------------------------\u001b[0m",
      "\u001b[1;31mNameError\u001b[0m                                 Traceback (most recent call last)",
      "\u001b[1;32m<ipython-input-19-e97a047b2451>\u001b[0m in \u001b[0;36m<module>\u001b[1;34m\u001b[0m\n\u001b[1;32m----> 1\u001b[1;33m \u001b[1;32mfor\u001b[0m \u001b[0mx\u001b[0m \u001b[1;32min\u001b[0m \u001b[0mcateg\u001b[0m\u001b[1;33m:\u001b[0m\u001b[1;33m\u001b[0m\u001b[1;33m\u001b[0m\u001b[0m\n\u001b[0m\u001b[0;32m      2\u001b[0m     \u001b[0mprint\u001b[0m\u001b[1;33m(\u001b[0m\u001b[0mcuaca\u001b[0m\u001b[1;33m[\u001b[0m\u001b[0mx\u001b[0m\u001b[1;33m]\u001b[0m\u001b[1;33m.\u001b[0m\u001b[0mvalue_counts\u001b[0m\u001b[1;33m(\u001b[0m\u001b[1;33m)\u001b[0m\u001b[1;33m,\u001b[0m\u001b[1;34m'\\n'\u001b[0m\u001b[1;33m)\u001b[0m\u001b[1;33m\u001b[0m\u001b[1;33m\u001b[0m\u001b[0m\n",
      "\u001b[1;31mNameError\u001b[0m: name 'categ' is not defined"
     ]
    }
   ],
   "source": [
    "for x in categ:\n",
    "    print(cuaca[x].value_counts(),'\\n')"
   ]
  },
  {
   "cell_type": "code",
   "execution_count": 20,
   "metadata": {},
   "outputs": [
    {
     "data": {
      "text/plain": [
       "[RangeIndex(start=0, stop=3902, step=1),\n",
       " Index(['Date', 'Temperature', 'Humidity', 'Dewpoint', 'Pressure', 'Windspeed',\n",
       "        'Rainfall'],\n",
       "       dtype='object')]"
      ]
     },
     "execution_count": 20,
     "metadata": {},
     "output_type": "execute_result"
    }
   ],
   "source": [
    "cuaca.axes"
   ]
  },
  {
   "cell_type": "code",
   "execution_count": 21,
   "metadata": {},
   "outputs": [
    {
     "name": "stdout",
     "output_type": "stream",
     "text": [
      "Empty DataFrame\n",
      "Columns: []\n",
      "Index: [percent missing, how many missing]\n"
     ]
    }
   ],
   "source": [
    "missing = cuaca.isnull().sum()/len(cuaca)*100\n",
    "\n",
    "print(pd.DataFrame([missing[missing>0],pd.Series(cuaca.isnull().sum()[cuaca.isnull().sum()>1000])], index=['percent missing','how many missing']))"
   ]
  },
  {
   "cell_type": "code",
   "execution_count": 22,
   "metadata": {
    "scrolled": true
   },
   "outputs": [
    {
     "data": {
      "image/png": "[encoded data removed]",
      "text/plain": [
       "<Figure size 1008x576 with 1 Axes>"
      ]
     },
     "metadata": {
      "needs_background": "light"
     },
     "output_type": "display_data"
    }
   ],
   "source": [
    "cuaca ['Rainfall'].plot(kind='box',figsize=(14,8))\n",
    "plt.title('Box Plot Hujan')\n",
    "plt.ylabel('Rainfall')\n",
    "plt.show()"
   ]
  },
  {
   "cell_type": "code",
   "execution_count": 23,
   "metadata": {},
   "outputs": [
    {
     "data": {
      "text/html": [
       "<div>\n",
       "<style scoped>\n",
       "    .dataframe tbody tr th:only-of-type {\n",
       "        vertical-align: middle;\n",
       "    }\n",
       "\n",
       "    .dataframe tbody tr th {\n",
       "        vertical-align: top;\n",
       "    }\n",
       "\n",
       "    .dataframe thead th {\n",
       "        text-align: right;\n",
       "    }\n",
       "</style>\n",
       "<table border=\"1\" class=\"dataframe\">\n",
       "  <thead>\n",
       "    <tr style=\"text-align: right;\">\n",
       "      <th></th>\n",
       "      <th>Date</th>\n",
       "      <th>Temperature</th>\n",
       "      <th>Humidity</th>\n",
       "      <th>Dewpoint</th>\n",
       "      <th>Pressure</th>\n",
       "      <th>Windspeed</th>\n",
       "      <th>Rainfall</th>\n",
       "    </tr>\n",
       "  </thead>\n",
       "  <tbody>\n",
       "    <tr>\n",
       "      <th>0</th>\n",
       "      <td>2009-01-01</td>\n",
       "      <td>37.8</td>\n",
       "      <td>35.0</td>\n",
       "      <td>12.7</td>\n",
       "      <td>29.7</td>\n",
       "      <td>26.4</td>\n",
       "      <td>0.00</td>\n",
       "    </tr>\n",
       "    <tr>\n",
       "      <th>1</th>\n",
       "      <td>2009-01-02</td>\n",
       "      <td>43.2</td>\n",
       "      <td>32.0</td>\n",
       "      <td>14.7</td>\n",
       "      <td>29.5</td>\n",
       "      <td>12.8</td>\n",
       "      <td>0.00</td>\n",
       "    </tr>\n",
       "    <tr>\n",
       "      <th>2</th>\n",
       "      <td>2009-01-03</td>\n",
       "      <td>25.7</td>\n",
       "      <td>60.0</td>\n",
       "      <td>12.7</td>\n",
       "      <td>29.7</td>\n",
       "      <td>8.3</td>\n",
       "      <td>0.00</td>\n",
       "    </tr>\n",
       "    <tr>\n",
       "      <th>3</th>\n",
       "      <td>2009-01-04</td>\n",
       "      <td>9.3</td>\n",
       "      <td>67.0</td>\n",
       "      <td>0.1</td>\n",
       "      <td>30.4</td>\n",
       "      <td>2.9</td>\n",
       "      <td>0.00</td>\n",
       "    </tr>\n",
       "    <tr>\n",
       "      <th>4</th>\n",
       "      <td>2009-01-05</td>\n",
       "      <td>23.5</td>\n",
       "      <td>30.0</td>\n",
       "      <td>-5.3</td>\n",
       "      <td>29.9</td>\n",
       "      <td>16.7</td>\n",
       "      <td>0.00</td>\n",
       "    </tr>\n",
       "    <tr>\n",
       "      <th>...</th>\n",
       "      <td>...</td>\n",
       "      <td>...</td>\n",
       "      <td>...</td>\n",
       "      <td>...</td>\n",
       "      <td>...</td>\n",
       "      <td>...</td>\n",
       "      <td>...</td>\n",
       "    </tr>\n",
       "    <tr>\n",
       "      <th>3897</th>\n",
       "      <td>2020-07-24</td>\n",
       "      <td>64.1</td>\n",
       "      <td>62.0</td>\n",
       "      <td>49.8</td>\n",
       "      <td>29.6</td>\n",
       "      <td>3.6</td>\n",
       "      <td>0.24</td>\n",
       "    </tr>\n",
       "    <tr>\n",
       "      <th>3898</th>\n",
       "      <td>2020-07-25</td>\n",
       "      <td>62.8</td>\n",
       "      <td>60.0</td>\n",
       "      <td>48.1</td>\n",
       "      <td>29.7</td>\n",
       "      <td>2.5</td>\n",
       "      <td>0.33</td>\n",
       "    </tr>\n",
       "    <tr>\n",
       "      <th>3899</th>\n",
       "      <td>2020-07-26</td>\n",
       "      <td>60.6</td>\n",
       "      <td>68.0</td>\n",
       "      <td>48.9</td>\n",
       "      <td>29.8</td>\n",
       "      <td>1.7</td>\n",
       "      <td>0.33</td>\n",
       "    </tr>\n",
       "    <tr>\n",
       "      <th>3900</th>\n",
       "      <td>2020-07-27</td>\n",
       "      <td>61.7</td>\n",
       "      <td>64.0</td>\n",
       "      <td>47.4</td>\n",
       "      <td>29.9</td>\n",
       "      <td>2.2</td>\n",
       "      <td>0.33</td>\n",
       "    </tr>\n",
       "    <tr>\n",
       "      <th>3901</th>\n",
       "      <td>2020-07-28</td>\n",
       "      <td>60.5</td>\n",
       "      <td>61.0</td>\n",
       "      <td>45.3</td>\n",
       "      <td>29.7</td>\n",
       "      <td>4.0</td>\n",
       "      <td>0.35</td>\n",
       "    </tr>\n",
       "  </tbody>\n",
       "</table>\n",
       "<p>3902 rows × 7 columns</p>\n",
       "</div>"
      ],
      "text/plain": [
       "            Date  Temperature  Humidity  Dewpoint  Pressure  Windspeed  \\\n",
       "0     2009-01-01         37.8      35.0      12.7      29.7       26.4   \n",
       "1     2009-01-02         43.2      32.0      14.7      29.5       12.8   \n",
       "2     2009-01-03         25.7      60.0      12.7      29.7        8.3   \n",
       "3     2009-01-04          9.3      67.0       0.1      30.4        2.9   \n",
       "4     2009-01-05         23.5      30.0      -5.3      29.9       16.7   \n",
       "...          ...          ...       ...       ...       ...        ...   \n",
       "3897  2020-07-24         64.1      62.0      49.8      29.6        3.6   \n",
       "3898  2020-07-25         62.8      60.0      48.1      29.7        2.5   \n",
       "3899  2020-07-26         60.6      68.0      48.9      29.8        1.7   \n",
       "3900  2020-07-27         61.7      64.0      47.4      29.9        2.2   \n",
       "3901  2020-07-28         60.5      61.0      45.3      29.7        4.0   \n",
       "\n",
       "      Rainfall  \n",
       "0         0.00  \n",
       "1         0.00  \n",
       "2         0.00  \n",
       "3         0.00  \n",
       "4         0.00  \n",
       "...        ...  \n",
       "3897      0.24  \n",
       "3898      0.33  \n",
       "3899      0.33  \n",
       "3900      0.33  \n",
       "3901      0.35  \n",
       "\n",
       "[3902 rows x 7 columns]"
      ]
     },
     "execution_count": 23,
     "metadata": {},
     "output_type": "execute_result"
    }
   ],
   "source": [
    "cuaca"
   ]
  },
  {
   "cell_type": "code",
   "execution_count": 24,
   "metadata": {},
   "outputs": [],
   "source": [
    "cuaca = cuaca.drop(['Date'], axis=1)"
   ]
  },
  {
   "cell_type": "markdown",
   "metadata": {},
   "source": [
    "Data Transform"
   ]
  },
  {
   "cell_type": "code",
   "execution_count": 25,
   "metadata": {},
   "outputs": [
    {
     "name": "stdout",
     "output_type": "stream",
     "text": [
      "data kelembaban before:  [35. 32. 60. ... 68. 64. 61.]\n",
      "data kelembaban after:  [26 23 51 ... 59 55 52]\n",
      "class before transform:  [ 9. 10. 11. 12. 13. 14. 15. 16. 17. 18. 19. 20. 21. 22. 23. 24. 25. 26.\n",
      " 27. 28. 29. 30. 31. 32. 33. 34. 35. 36. 37. 38. 39. 40. 41. 42. 43. 44.\n",
      " 45. 46. 47. 48. 49. 50. 51. 52. 53. 54. 55. 56. 57. 58. 59. 60. 61. 62.\n",
      " 63. 64. 65. 66. 67. 68. 69. 70. 71. 72. 73. 74. 75. 76. 77. 78. 79. 80.\n",
      " 81. 82. 83. 84. 85. 86. 87. 88. 89. 90. 91. 92. 93. 94.]\n"
     ]
    }
   ],
   "source": [
    "from sklearn.preprocessing import LabelEncoder\n",
    "kelembaban_label = cuaca['Humidity'].values\n",
    "print('data kelembaban before: ',kelembaban_label)\n",
    "label_encoder = LabelEncoder().fit(kelembaban_label)\n",
    "kelembaban_label_after = label_encoder.transform(kelembaban_label)\n",
    "print('data kelembaban after: ',kelembaban_label_after)\n",
    "print('class before transform: ',label_encoder.classes_)"
   ]
  },
  {
   "cell_type": "code",
   "execution_count": 26,
   "metadata": {},
   "outputs": [
    {
     "name": "stdout",
     "output_type": "stream",
     "text": [
      "data hujan before:  [0.   0.   0.   ... 0.33 0.33 0.35]\n",
      "data hujan after:  [ 0  0  0 ... 33 33 35]\n",
      "class before transform:  [0.   0.01 0.02 0.03 0.04 0.05 0.06 0.07 0.08 0.09 0.1  0.11 0.12 0.13\n",
      " 0.14 0.15 0.16 0.17 0.18 0.19 0.2  0.21 0.22 0.23 0.24 0.25 0.26 0.27\n",
      " 0.28 0.29 0.3  0.31 0.32 0.33 0.34 0.35 0.36 0.37 0.38 0.39 0.4  0.41\n",
      " 0.42 0.43 0.44 0.45 0.46 0.47 0.48 0.49 0.5  0.51 0.52 0.53 0.54 0.55\n",
      " 0.56 0.57 0.58 0.59 0.6  0.61 0.62 0.63 0.64 0.65 0.66 0.67 0.68 0.69\n",
      " 0.7  0.71 0.72 0.73 0.74 0.75 0.76 0.77 0.78 0.79 0.8  0.81 0.82 0.83\n",
      " 0.84 0.85 0.86 0.87 0.88 0.89 0.9  0.91 0.92 0.93 0.94 0.95 0.96 0.97\n",
      " 0.98 0.99 1.   1.01 1.02 1.03 1.04 1.05 1.06 1.07 1.09 1.1  1.12 1.13\n",
      " 1.14 1.15 1.16 1.17 1.18 1.19 1.2  1.21 1.22 1.23 1.24 1.25 1.27 1.28\n",
      " 1.3  1.31 1.32 1.33 1.34 1.35 1.36 1.37 1.38 1.39 1.4  1.41 1.42 1.43\n",
      " 1.44 1.45 1.46 1.47 1.49 1.5  1.51 1.52 1.53 1.54 1.56 1.58 1.59 1.6\n",
      " 1.62 1.64 1.65 1.66 1.67 1.68 1.69 1.7  1.71 1.73 1.74 1.76 1.77 1.8\n",
      " 1.83 1.86 1.87 1.88 1.89 1.9  1.91 1.92 1.95 1.96 1.97 1.98 2.01 2.03\n",
      " 2.04 2.06 2.11 2.12 2.15 2.16 2.18 2.19 2.2  2.21 2.22 2.25 2.26 2.3\n",
      " 2.32 2.33 2.35 2.37 2.38 2.39 2.4  2.41 2.43 2.45 2.46 2.47 2.55 2.56\n",
      " 2.58 2.62 2.63 2.64 2.92 2.93 3.   3.08 3.3  3.31 3.32 3.5  3.54 3.69\n",
      " 3.71 3.79 3.82 3.98 4.   4.06 4.14 4.3  4.4  4.48]\n"
     ]
    }
   ],
   "source": [
    "from sklearn.preprocessing import LabelEncoder\n",
    "target_label = cuaca['Rainfall'].values\n",
    "print('data hujan before: ',target_label)\n",
    "label_encoder = LabelEncoder().fit(target_label)\n",
    "target_label_after = label_encoder.transform(target_label)\n",
    "print('data hujan after: ',target_label_after)\n",
    "print('class before transform: ',label_encoder.classes_)"
   ]
  },
  {
   "cell_type": "code",
   "execution_count": 28,
   "metadata": {},
   "outputs": [
    {
     "data": {
      "text/html": [
       "<div>\n",
       "<style scoped>\n",
       "    .dataframe tbody tr th:only-of-type {\n",
       "        vertical-align: middle;\n",
       "    }\n",
       "\n",
       "    .dataframe tbody tr th {\n",
       "        vertical-align: top;\n",
       "    }\n",
       "\n",
       "    .dataframe thead th {\n",
       "        text-align: right;\n",
       "    }\n",
       "</style>\n",
       "<table border=\"1\" class=\"dataframe\">\n",
       "  <thead>\n",
       "    <tr style=\"text-align: right;\">\n",
       "      <th></th>\n",
       "      <th>Humidity</th>\n",
       "      <th>kelembaban_label_encode</th>\n",
       "      <th>Rainfall</th>\n",
       "      <th>target_label_encode</th>\n",
       "    </tr>\n",
       "  </thead>\n",
       "  <tbody>\n",
       "    <tr>\n",
       "      <th>3897</th>\n",
       "      <td>62.0</td>\n",
       "      <td>53</td>\n",
       "      <td>0.24</td>\n",
       "      <td>24</td>\n",
       "    </tr>\n",
       "    <tr>\n",
       "      <th>3898</th>\n",
       "      <td>60.0</td>\n",
       "      <td>51</td>\n",
       "      <td>0.33</td>\n",
       "      <td>33</td>\n",
       "    </tr>\n",
       "    <tr>\n",
       "      <th>3899</th>\n",
       "      <td>68.0</td>\n",
       "      <td>59</td>\n",
       "      <td>0.33</td>\n",
       "      <td>33</td>\n",
       "    </tr>\n",
       "    <tr>\n",
       "      <th>3900</th>\n",
       "      <td>64.0</td>\n",
       "      <td>55</td>\n",
       "      <td>0.33</td>\n",
       "      <td>33</td>\n",
       "    </tr>\n",
       "    <tr>\n",
       "      <th>3901</th>\n",
       "      <td>61.0</td>\n",
       "      <td>52</td>\n",
       "      <td>0.35</td>\n",
       "      <td>35</td>\n",
       "    </tr>\n",
       "  </tbody>\n",
       "</table>\n",
       "</div>"
      ],
      "text/plain": [
       "      Humidity  kelembaban_label_encode  Rainfall  target_label_encode\n",
       "3897      62.0                       53      0.24                   24\n",
       "3898      60.0                       51      0.33                   33\n",
       "3899      68.0                       59      0.33                   33\n",
       "3900      64.0                       55      0.33                   33\n",
       "3901      61.0                       52      0.35                   35"
      ]
     },
     "execution_count": 28,
     "metadata": {},
     "output_type": "execute_result"
    }
   ],
   "source": [
    "cuaca['kelembaban_label_encode'] = kelembaban_label_after\n",
    "cuaca['target_label_encode'] = target_label_after\n",
    "cuaca[['Humidity','kelembaban_label_encode','Rainfall','target_label_encode']].tail()"
   ]
  },
  {
   "cell_type": "code",
   "execution_count": null,
   "metadata": {},
   "outputs": [],
   "source": [
    "#from sklearn.linear_model import LogisticRegression\n",
    "#pertama dengna mengubah label pada precip type\n",
    "#from sklearn.preprocessing import LabelEncoder\n",
    "#target_label = cuaca['Rainfall'].values\n",
    "#print('data hujan before: ',target_label)\n",
    "#label_encoder = LabelEncoder().fit(target_label)\n",
    "#target_label_after = label_encoder.transform(target_label)\n",
    "#print('data hujan after: ',target_label_after)\n",
    "#print('class before transform: ',label_encoder.classes_)\n",
    "\n",
    "#from sklearn.metrics import classification_report,confusion_matrix\n"
   ]
  },
  {
   "cell_type": "code",
   "execution_count": 29,
   "metadata": {},
   "outputs": [
    {
     "name": "stdout",
     "output_type": "stream",
     "text": [
      "shape feature total:  (3902, 5)\n",
      "shape feature train:  (2926, 5)\n",
      "shape feature test:  (976, 5)\n",
      "shape target test:  (976,)\n"
     ]
    }
   ],
   "source": [
    "from sklearn.model_selection import train_test_split\n",
    "\n",
    "#features_data = df[['age']].values.reshape(-1,1)\n",
    "#features_data = df[['age','job_label_encode']].values\n",
    "features_data = cuaca[['Temperature','Humidity', 'Dewpoint', 'Pressure', 'Windspeed' ]].values\n",
    "target_data = cuaca[['target_label_encode']].values.reshape(-1,1)\n",
    "\n",
    "x_train,x_test,y_train,y_test = train_test_split(features_data,target_data,test_size=0.25)\n",
    "#x_train\n",
    "y_test = y_test.reshape(len(y_test))\n",
    "y_train = y_train.reshape(len(y_train))\n",
    "print('shape feature total: ',features_data.shape)\n",
    "print('shape feature train: ',x_train.shape)\n",
    "print('shape feature test: ',x_test.shape)\n",
    "print('shape target test: ',y_test.shape)"
   ]
  },
  {
   "cell_type": "code",
   "execution_count": 30,
   "metadata": {},
   "outputs": [
    {
     "data": {
      "text/plain": [
       "array([[ 41.3,  30. ,  11.1,  30. ,  12.8],\n",
       "       [ 34.8,  39. ,  11.1,  29.7,  13.6],\n",
       "       [ 63. ,  63. ,  47.8,  29.8,   3.6],\n",
       "       ...,\n",
       "       [-12.1,  63. , -21.1,  30.8,   2.4],\n",
       "       [ 27.6,  45. ,   8.5,  29.8,   2.1],\n",
       "       [ 37. ,  57. ,  21.8,  29.5,   9.3]])"
      ]
     },
     "execution_count": 30,
     "metadata": {},
     "output_type": "execute_result"
    }
   ],
   "source": [
    "x_train"
   ]
  },
  {
   "cell_type": "markdown",
   "metadata": {},
   "source": [
    "Creating Model"
   ]
  },
  {
   "cell_type": "code",
   "execution_count": 31,
   "metadata": {},
   "outputs": [
    {
     "data": {
      "text/plain": [
       "RandomForestClassifier(bootstrap=True, ccp_alpha=0.0, class_weight=None,\n",
       "                       criterion='gini', max_depth=None, max_features='auto',\n",
       "                       max_leaf_nodes=None, max_samples=None,\n",
       "                       min_impurity_decrease=0.0, min_impurity_split=None,\n",
       "                       min_samples_leaf=1, min_samples_split=2,\n",
       "                       min_weight_fraction_leaf=0.0, n_estimators=100,\n",
       "                       n_jobs=None, oob_score=False, random_state=None,\n",
       "                       verbose=0, warm_start=False)"
      ]
     },
     "execution_count": 31,
     "metadata": {},
     "output_type": "execute_result"
    }
   ],
   "source": [
    "from sklearn.tree import DecisionTreeClassifier\n",
    "from sklearn.ensemble import RandomForestClassifier\n",
    "\n",
    "#model = GaussianNB().fit(x_train,y_train)\n",
    "#model = DecisionTreeClassifier().fit(x_train,y_train)\n",
    "model = RandomForestClassifier().fit(x_train,y_train)\n",
    "model"
   ]
  },
  {
   "cell_type": "code",
   "execution_count": 32,
   "metadata": {},
   "outputs": [
    {
     "data": {
      "text/plain": [
       "array([ 18,  47, 129, ...,   0,   0,   4], dtype=int64)"
      ]
     },
     "execution_count": 32,
     "metadata": {},
     "output_type": "execute_result"
    }
   ],
   "source": [
    "y_train_prediksi = model.predict(x_train)\n",
    "y_train_prediksi"
   ]
  },
  {
   "cell_type": "code",
   "execution_count": 33,
   "metadata": {},
   "outputs": [
    {
     "name": "stdout",
     "output_type": "stream",
     "text": [
      "performance model data train:  1.0\n"
     ]
    }
   ],
   "source": [
    "performance_model_train = model.score(x_train,y_train)\n",
    "print('performance model data train: ',performance_model_train)"
   ]
  },
  {
   "cell_type": "code",
   "execution_count": 34,
   "metadata": {},
   "outputs": [
    {
     "name": "stdout",
     "output_type": "stream",
     "text": [
      "performance model data test:  1.0\n"
     ]
    }
   ],
   "source": [
    "y_test_prediksi = model.predict(x_test)\n",
    "performance_model_test = model.score(x_test,y_test_prediksi)\n",
    "print('performance model data test: ',performance_model_test)"
   ]
  },
  {
   "cell_type": "code",
   "execution_count": 35,
   "metadata": {},
   "outputs": [
    {
     "data": {
      "text/plain": [
       "array([[415,   0,   0, ...,   0,   0,   0],\n",
       "       [  0,  66,   0, ...,   0,   0,   0],\n",
       "       [  0,   0,  80, ...,   0,   0,   0],\n",
       "       ...,\n",
       "       [  0,   0,   0, ...,   2,   0,   0],\n",
       "       [  0,   0,   0, ...,   0,   1,   0],\n",
       "       [  0,   0,   0, ...,   0,   0,   2]], dtype=int64)"
      ]
     },
     "execution_count": 35,
     "metadata": {},
     "output_type": "execute_result"
    }
   ],
   "source": [
    "from sklearn.metrics import classification_report,confusion_matrix\n",
    "hasil_confusion_matrix_train = confusion_matrix(y_train,y_train_prediksi)\n",
    "hasil_confusion_matrix_train"
   ]
  },
  {
   "cell_type": "code",
   "execution_count": 36,
   "metadata": {},
   "outputs": [
    {
     "data": {
      "text/plain": [
       "array([[65,  5,  3, ...,  0,  0,  0],\n",
       "       [ 3,  1,  1, ...,  0,  0,  0],\n",
       "       [11,  1,  0, ...,  0,  0,  0],\n",
       "       ...,\n",
       "       [ 0,  0,  0, ...,  0,  0,  0],\n",
       "       [ 0,  0,  0, ...,  0,  0,  0],\n",
       "       [ 0,  0,  0, ...,  0,  0,  0]], dtype=int64)"
      ]
     },
     "execution_count": 36,
     "metadata": {},
     "output_type": "execute_result"
    }
   ],
   "source": [
    "hasil_confusion_matrix_test = confusion_matrix(y_test,y_test_prediksi)\n",
    "hasil_confusion_matrix_test"
   ]
  },
  {
   "cell_type": "code",
   "execution_count": null,
   "metadata": {},
   "outputs": [],
   "source": [
    "import matplotlib.pyplot as plt\n",
    "import matplotlib as mpl\n",
    "%matplotlib inline\n",
    "mpl.style.use(['ggplot'])\n",
    "\n",
    "fig,ax = plt.subplots(figsize=(8,8))\n",
    "ax.imshow(hasil_confusion_matrix_train)\n",
    "ax.grid(False)\n",
    "for i in range(len(hasil_confusion_matrix_train[0])):\n",
    "    for j in range(len(hasil_confusion_matrix_train[0])):\n",
    "        ax.text(j,i,hasil_confusion_matrix_train[i,j])\n",
    "plt.show()"
   ]
  },
  {
   "cell_type": "code",
   "execution_count": 39,
   "metadata": {},
   "outputs": [],
   "source": [
    "import pickle\n",
    "pickle.dump(model,open('./model.pkl','wb'))"
   ]
  },
  {
   "cell_type": "code",
   "execution_count": 40,
   "metadata": {},
   "outputs": [],
   "source": [
    "import pickle\n",
    "model_open = pickle.load(open('./model.pkl','rb'))"
   ]
  },
  {
   "cell_type": "code",
   "execution_count": 45,
   "metadata": {},
   "outputs": [
    {
     "data": {
      "text/plain": [
       "(1, 5)"
      ]
     },
     "execution_count": 45,
     "metadata": {},
     "output_type": "execute_result"
    }
   ],
   "source": [
    "import numpy as np\n",
    "data_input = np.array([25,30,34,32,31]).reshape(1,-1)\n",
    "data_input.shape"
   ]
  },
  {
   "cell_type": "code",
   "execution_count": 46,
   "metadata": {},
   "outputs": [
    {
     "data": {
      "text/plain": [
       "array([0], dtype=int64)"
      ]
     },
     "execution_count": 46,
     "metadata": {},
     "output_type": "execute_result"
    }
   ],
   "source": [
    "model.predict(data_input)"
   ]
  },
  {
   "cell_type": "code",
   "execution_count": 47,
   "metadata": {},
   "outputs": [
    {
     "data": {
      "text/plain": [
       "array([0], dtype=int64)"
      ]
     },
     "execution_count": 47,
     "metadata": {},
     "output_type": "execute_result"
    }
   ],
   "source": [
    "model_open.predict(data_input)"
   ]
  },
  {
   "cell_type": "code",
   "execution_count": 49,
   "metadata": {},
   "outputs": [
    {
     "data": {
      "text/plain": [
       "Temperature  Rainfall\n",
       "-12.1        0.00        1\n",
       "-11.9        0.01        1\n",
       "-9.6         0.22        1\n",
       "-9.1         0.13        1\n",
       "-6.7         0.25        1\n",
       "                        ..\n",
       " 74.8        0.00        1\n",
       " 74.9        0.27        1\n",
       " 75.3        0.27        1\n",
       " 76.3        0.10        1\n",
       "             0.27        1\n",
       "Name: Temperature, Length: 3544, dtype: int64"
      ]
     },
     "execution_count": 49,
     "metadata": {},
     "output_type": "execute_result"
    }
   ],
   "source": [
    "temp_precip_group=cuaca.groupby(by=['Temperature','Rainfall'])['Temperature'].count()\n",
    "temp_precip_group"
   ]
  }
 ],
 "metadata": {
  "kernelspec": {
   "display_name": "Python 3",
   "language": "python",
   "name": "python3"
  },
  "language_info": {
   "codemirror_mode": {
    "name": "ipython",
    "version": 3
   },
   "file_extension": ".py",
   "mimetype": "text/x-python",
   "name": "python",
   "nbconvert_exporter": "python",
   "pygments_lexer": "ipython3",
   "version": "3.7.6"
  }
 },
 "nbformat": 4,
 "nbformat_minor": 4
}
