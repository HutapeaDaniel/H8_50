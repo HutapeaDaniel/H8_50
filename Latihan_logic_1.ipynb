{
 "cells": [
  {
   "cell_type": "code",
   "execution_count": null,
   "metadata": {},
   "outputs": [],
   "source": [
    "age = 36\n",
    "a = \"Daniel Hutapea\"\n",
    "b = \"Daniel\"\n",
    "if age%2 == 0:\n",
    "    print(a)\n",
    "else:\n",
    "    if len(a) > 3:\n",
    "        print(a)\n",
    "    else:\n",
    "        print(b)"
   ]
  },
  {
   "cell_type": "code",
   "execution_count": null,
   "metadata": {},
   "outputs": [],
   "source": [
    "a=\"danielhutapea\"\n",
    "b=len(a)\n",
    "c=0\n",
    "while c<b:\n",
    "        c=c+1\n",
    "        print(c)\n",
    "\n"
   ]
  },
  {
   "cell_type": "code",
   "execution_count": null,
   "metadata": {},
   "outputs": [],
   "source": [
    "list1 = [10,11,12,13]\n",
    "list2 = [15,14,13,13]\n",
    "nama = \"daniel\"\n",
    "\n",
    "for i in range(len(list1)):\n",
    "    if list1[i]==list2[i]:\n",
    "        "
   ]
  },
  {
   "cell_type": "code",
   "execution_count": null,
   "metadata": {},
   "outputs": [],
   "source": [
    "#case: kita membutuhkan fungsi untuk menghitung jumlah dari list A, kemudian jumlah tersebut ditambahkan kedalam umur kita\n",
    "list_A = [1,2,3,4]\n",
    "umur = 36\n",
    "def coba(list_1,umur):\n",
    "    for i in range (len(list_1)):\n",
    "        umur = list_1[i]+umur\n",
    "        Print (umur)\n",
    "    \n",
    "coba(list_1,umur)\n"
   ]
  },
  {
   "cell_type": "markdown",
   "metadata": {},
   "source": [
    "case : kita membuat 2 fungsi, dimana fungsi pertama adalah untuk mengecek apakah angka itu dapat dibagi oleh suatu angka,\n",
    "    hasil dari fungsi tersebut adalah true or false\n",
    "    \n",
    "fungsi yang kedua adalah apabila hasil dari fungsi pertama itu adalah true, maka kita akan mempangkatkan angka tersebut\n",
    "dengan angka yang kita inginkan\n",
    "\n",
    "angka = 10\n",
    "angka tersebut dapat dibagi 3 -> tidak, tidak melakukan apapun\n",
    "\n",
    "angka_2=21\n",
    "angka ini bs dibagi 7 atau tidak-> bisa,\n",
    "maka hasil akhirnya adalah 21, pangkat 4-> 194.481"
   ]
  },
  {
   "cell_type": "code",
   "execution_count": null,
   "metadata": {},
   "outputs": [],
   "source": [
    "a = 5\n",
    "b = 3\n",
    "def jumlah(a,b):\n",
    "    z =a+b\n",
    "    print(z)\n",
    "jumlah(a,b)\n"
   ]
  },
  {
   "cell_type": "markdown",
   "metadata": {},
   "source": [
    "case buat modul utk\n",
    "menghitung number of data yg ada dalam suatu list,\n",
    "kemudian jumlah data yang ada dalam list tersebut \n",
    "kita kalikan dengan data yang ada dalam list tersebut, \n",
    "yang kemudian angka tersebut kita kalikan\n",
    "\n",
    "a = [10,30]\n",
    "20+60=80"
   ]
  },
  {
   "cell_type": "code",
   "execution_count": 10,
   "metadata": {},
   "outputs": [
    {
     "name": "stdout",
     "output_type": "stream",
     "text": [
      "80\n"
     ]
    }
   ],
   "source": [
    "from script import hitung_data_di_list,kalikan_angka_dalam_list,jumlah_data_di_list\n",
    "\n",
    "list_dihitung = [10,30]\n",
    "n = hitung_data_di_list(list_dihitung)\n",
    "list_new = kalikan_angka_dalam_list(list_dihitung,n)\n",
    "hasil_akhir = jumlah_data_di_list(list_new)\n",
    "print(hasil_akhir)"
   ]
  },
  {
   "cell_type": "markdown",
   "metadata": {},
   "source": [
    "case buat scrip python utk mengkalikan angka yang kita input dikalikan dengan 10"
   ]
  },
  {
   "cell_type": "code",
   "execution_count": null,
   "metadata": {},
   "outputs": [],
   "source": [
    "def kalikan_angka(n):\n",
    "    n = input_angka\n",
    "    "
   ]
  }
 ],
 "metadata": {
  "kernelspec": {
   "display_name": "Python 3",
   "language": "python",
   "name": "python3"
  },
  "language_info": {
   "codemirror_mode": {
    "name": "ipython",
    "version": 3
   },
   "file_extension": ".py",
   "mimetype": "text/x-python",
   "name": "python",
   "nbconvert_exporter": "python",
   "pygments_lexer": "ipython3",
   "version": "3.7.6"
  }
 },
 "nbformat": 4,
 "nbformat_minor": 4
}
